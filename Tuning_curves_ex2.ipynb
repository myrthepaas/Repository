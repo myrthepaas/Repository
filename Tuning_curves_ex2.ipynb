{
 "cells": [
  {
   "cell_type": "code",
   "execution_count": 2,
   "id": "2fabdb98-7963-41a1-a372-8fd439dda485",
   "metadata": {},
   "outputs": [],
   "source": [
    "import numpy as np\n",
    "import scipy\n",
    "import scipy.stats\n",
    "import scipy.io\n",
    "import matplotlib.pyplot as plt\n",
    "from ipywidgets import interact\n",
    "import ipywidgets as widgets\n",
    "from tqdm import tqdm\n",
    "import seaborn as sns\n",
    "import pickle\n",
    "import sys\n",
    "import os\n",
    "import math\n",
    "sys.path.append(os.path.abspath(\"code\"))\n",
    "from utils import download_data\n",
    "\n",
    "sns.set_theme(context='notebook',style='white',font_scale=1.5,\n",
    "              rc = {'axes.spines.top':False,'axes.spines.right':False})"
   ]
  },
  {
   "cell_type": "code",
   "execution_count": 3,
   "id": "23957674-8627-4a15-a726-d92a2585b3f7",
   "metadata": {},
   "outputs": [],
   "source": [
    "# Download lesson data\n",
    "download_data('https://surfdrive.surf.nl/files/index.php/s/FeDX3LfbJ4pC7T6')"
   ]
  },
  {
   "cell_type": "code",
   "execution_count": 4,
   "id": "5dcbf487-a991-4b2c-8c33-f8895df76317",
   "metadata": {},
   "outputs": [],
   "source": [
    "#import data\n",
    "with open('data/psth_data.pickle', 'rb') as handle:\n",
    "    data = pickle.load(handle)\n",
    "\n",
    "spike_times = data['spike_times']\n",
    "stim_onsets = data['stim_onsets']\n",
    "stim_type = data['stim_type']\n",
    "stim_duration = data['stim_duration']"
   ]
  },
  {
   "cell_type": "code",
   "execution_count": 5,
   "id": "d460728b-d057-4a07-a05d-f7e2a1336c74",
   "metadata": {},
   "outputs": [],
   "source": [
    "# cut and align to stimulus presentation\n",
    "psth_onset = -0.5\n",
    "psth_offset = stim_duration+0.5\n",
    "\n",
    "aligned_spikes_stim1 = []\n",
    "stim1_onsets = stim_onsets[stim_type==1]\n",
    "\n",
    "for cell_spikes in spike_times:\n",
    "    aligned_spikes = []\n",
    "    for stim_onset in stim1_onsets:\n",
    "        onset = stim_onset + psth_onset\n",
    "        offset = stim_onset +psth_offset\n",
    "        # take only spikes during stimulus, aligned to stimulus onset\n",
    "        stim_spikes = [spike-stim_onset for spike in cell_spikes if (spike>=onset and spike<offset)]\n",
    "        aligned_spikes.append(stim_spikes)\n",
    "\n",
    "    aligned_spikes_stim1.append(aligned_spikes)\n",
    "\n",
    "aligned_spikes_stim2 = []\n",
    "stim1_onsets = stim_onsets[stim_type==2]\n",
    "\n",
    "for cell_spikes in spike_times:\n",
    "    aligned_spikes = []\n",
    "    for stim_onset in stim1_onsets:\n",
    "        onset = stim_onset + psth_onset\n",
    "        offset = stim_onset +psth_offset\n",
    "        # take only spikes during stimulus, aligned to stimulus onset\n",
    "        stim_spikes = [spike-stim_onset for spike in cell_spikes if (spike>=onset and spike<offset)]\n",
    "        aligned_spikes.append(stim_spikes)\n",
    "\n",
    "    aligned_spikes_stim2.append(aligned_spikes)\n",
    "    "
   ]
  },
  {
   "cell_type": "code",
   "execution_count": 6,
   "id": "7c22d867-43da-4da1-af93-928dc3374fe1",
   "metadata": {},
   "outputs": [],
   "source": [
    "# cut and align to stimulus presentation\n",
    "psth_onset = -0.5\n",
    "psth_offset = stim_duration+0.5\n",
    "\n",
    "\n",
    "aligned_spikes_stim1 = []\n",
    "stim1_onsets = stim_onsets[stim_type==1]"
   ]
  },
  {
   "cell_type": "code",
   "execution_count": 7,
   "id": "580fd8e7-e735-436b-b186-08a8f99123b5",
   "metadata": {},
   "outputs": [],
   "source": [
    "track_length = 200. # the length of our linear track (eg in centimeter)\n",
    "average_firing_rate = 5 # the peak firing rate, averaged across the population \n",
    "n_cells = 100 # how many cells we are recording\n",
    "pf_centers = np.random.rand(n_cells) * track_length # the centers of the place fields for all cells drawn randomly with a uniform distribution on the track\n",
    "pf_size = np.random.gamma(10, size=n_cells) # the size (width) of the place fields, drawn randomly from a gamma distribution \n",
    "pf_rate = np.random.exponential(scale=average_firing_rate, size=n_cells) # the peak firing rate for each cell, drawn from an exponential distribution"
   ]
  },
  {
   "cell_type": "code",
   "execution_count": 8,
   "id": "13186063-c22d-43ab-8bc2-17c769b67b2d",
   "metadata": {},
   "outputs": [
    {
     "name": "stderr",
     "output_type": "stream",
     "text": [
      "100%|████████████████████████████████████████████████████████████████████████████████| 100/100 [02:17<00:00,  1.38s/it]\n"
     ]
    }
   ],
   "source": [
    "bins = np.arange(0., 200.)\n",
    "true_firing_rate_maps = np.zeros((n_cells, len(bins)))\n",
    "for i in range(n_cells):\n",
    "    true_firing_rate_maps[i,:] = pf_rate[i] * np.exp(-((bins-pf_centers[i])**2)/(2*pf_size[i]**2))\n",
    "\n",
    "n_runs = 20 \n",
    "av_running_speed = 10 # the average running speed (in cm/s)\n",
    "fps = 30 # the number of \"video frames\" per second \n",
    "running_speed_a = np.random.chisquare(10, size=n_runs) # running speed in the two directions\n",
    "running_speed_b = np.random.chisquare(10, size=n_runs) \n",
    "\n",
    "stopping_time_a = np.random.chisquare(15, size=n_runs) # the time the mouse will spend at the two ends of the track\n",
    "stopping_time_b = np.random.chisquare(15, size=n_runs)\n",
    "\n",
    "x = np.array([])\n",
    "for i in range(n_runs):\n",
    "    stop1 = np.ones((int(stopping_time_a[i]*fps),)) * 0.\n",
    "    run_length = len(bins) * fps / running_speed_a[i]\n",
    "    run1 = np.linspace(0., float(len(bins)-1), int(run_length))\n",
    "    stop2 = np.ones((int(stopping_time_b[i]*fps),)) * (len(bins)-1.)\n",
    "    run_length = len(bins) * fps / running_speed_b[i]\n",
    "    run2 = np.linspace(len(bins)-1., 0., int(run_length))\n",
    "    x = np.concatenate((x, stop1, run1, stop2, run2))\n",
    "t = np.arange(len(x))/fps\n",
    "sampling_rate = 10000.\n",
    "t_sampling = np.arange(0, t[-1], 1. / sampling_rate)\n",
    "x_sampling = np.floor(np.interp(t_sampling, t, x))\n",
    "noise_firing_rate = 0.1 # the baseline noise firing rate\n",
    "spikes = []\n",
    "\n",
    "for i in tqdm(range(n_cells)):\n",
    "    inst_rate = true_firing_rate_maps[i,x_sampling.astype(np.int32)] + noise_firing_rate\n",
    "    spikes_loc = np.random.poisson(inst_rate/sampling_rate)\n",
    "    sp = np.argwhere(spikes_loc)\n",
    "    t_sp = t_sampling[sp]\n",
    "    spikes.append(t_sp)\n",
    "spike_positions = [np.interp(s, t, x) for s in spikes]\n",
    "space_bins = np.arange(0., 200., 5.)\n",
    "\n",
    "# we compute histograms for eaxh cell\n",
    "spikes_hist= [np.histogram(s, space_bins)[0] for s in spike_positions]\n",
    "\n",
    "# put them together into a matrix of floating point numbers (for plotting)\n",
    "spikes_hist = np.vstack(spikes_hist).astype(np.float64)\n",
    "\n",
    "# we also need an \"occupancy histogram\" in order to normalize the firing rates maps \n",
    "occupancy = np.histogram(x, space_bins)[0] /  fps\n",
    "\n",
    "firing_rate_maps = spikes_hist / occupancy "
   ]
  },
  {
   "cell_type": "markdown",
   "id": "534dd5bb-2bf2-4c9c-a6b4-e762d0b95847",
   "metadata": {},
   "source": [
    "# Exercise 2"
   ]
  },
  {
   "cell_type": "markdown",
   "id": "00ad90dd-8632-454d-afd7-cfc1884216dc",
   "metadata": {},
   "source": [
    "## A."
   ]
  },
  {
   "cell_type": "markdown",
   "id": "a26f2e39-86b4-4be9-bf6d-c8957c16df4e",
   "metadata": {},
   "source": [
    "\\begin{equation}\n",
    "I = \\sum_x \\lambda (x) \\log_2 \\frac{\\lambda (x) + \\epsilon}{\\lambda} p_{occ}(x)\n",
    "\\end{equation}\n",
    "\n",
    "\\begin{equation}\n",
    "I_s = I / \\lambda\n",
    "\\end{equation}\n",
    "Second equation is prefered for low firing rates, as is the case with place cells. First equation is in bits/second, and the second equation in bits/spike."
   ]
  },
  {
   "cell_type": "code",
   "execution_count": 9,
   "id": "c5d073ec-8ec2-4adf-b9f8-263b11425df4",
   "metadata": {},
   "outputs": [],
   "source": [
    "epsilon = 10**(-15)\n",
    "lamb = np.mean(firing_rate_maps, axis=1) # average firing rate\n",
    "lamb_x = firing_rate_maps #firing rate\n",
    "p_occ = occupancy/np.sum(occupancy)#occupancy probability"
   ]
  },
  {
   "cell_type": "code",
   "execution_count": 10,
   "id": "edd675bf-399a-4ea5-879d-f44622ed61e7",
   "metadata": {},
   "outputs": [],
   "source": [
    "I = np.zeros(100)\n",
    "for i in range(len(lamb_x[1])):\n",
    "    I[:] += lamb_x[:,i]*p_occ[i]*np.log2((lamb_x[:,i]+epsilon)/(lamb[:]))\n",
    "    \n",
    "I_s = I/lamb"
   ]
  },
  {
   "cell_type": "code",
   "execution_count": 11,
   "id": "39a231d0-cf8e-45c5-8439-6b64be014a93",
   "metadata": {},
   "outputs": [
    {
     "data": {
      "image/png": "[encoded data removed]",
      "text/plain": [
       "<Figure size 640x480 with 1 Axes>"
      ]
     },
     "metadata": {},
     "output_type": "display_data"
    }
   ],
   "source": [
    "plt.bar(np.linspace(0,100,100), I_s)\n",
    "plt.xlabel('neuron')\n",
    "plt.ylabel(r'$I_s$')\n",
    "plt.title('Spatial information per neuron')\n",
    "plt.show()"
   ]
  },
  {
   "cell_type": "markdown",
   "id": "ece3af20-e78a-41f8-a8aa-e3ced573b4f0",
   "metadata": {},
   "source": [
    "## B."
   ]
  },
  {
   "cell_type": "markdown",
   "id": "018be559-ae00-4bcb-aaa7-bc69791201c4",
   "metadata": {},
   "source": [
    "Vary the peak firing rate over 0.1, 0.5, and 1?"
   ]
  }
 ],
 "metadata": {
  "kernelspec": {
   "display_name": "Python 3 (ipykernel)",
   "language": "python",
   "name": "python3"
  },
  "language_info": {
   "codemirror_mode": {
    "name": "ipython",
    "version": 3
   },
   "file_extension": ".py",
   "mimetype": "text/x-python",
   "name": "python",
   "nbconvert_exporter": "python",
   "pygments_lexer": "ipython3",
   "version": "3.10.8"
  }
 },
 "nbformat": 4,
 "nbformat_minor": 5
}
